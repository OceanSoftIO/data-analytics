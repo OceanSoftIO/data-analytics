{
  "nbformat": 4,
  "nbformat_minor": 0,
  "metadata": {
    "colab": {
      "name": "Utility_Facets_Dive_Colab.ipynb",
      "version": "0.3.2",
      "provenance": [],
      "private_outputs": true,
      "include_colab_link": true
    },
    "kernelspec": {
      "name": "python2",
      "display_name": "Python 2"
    },
    "accelerator": "GPU"
  },
  "cells": [
    {
      "cell_type": "markdown",
      "metadata": {
        "id": "view-in-github",
        "colab_type": "text"
      },
      "source": [
        "[View in Colaboratory](https://colab.research.google.com/github/vbosstech/disease-diagnostic-from-symptoms/blob/master/Utility_Facets_Dive_Colab.ipynb)"
      ]
    },
    {
      "metadata": {
        "id": "blPpZw5R3Bb4",
        "colab_type": "code",
        "colab": {}
      },
      "cell_type": "code",
      "source": [
        "# Load UCI census train and test data into dataframes.\n",
        "import pandas as pd\n",
        "features = [\"Age\", \"Workclass\", \"fnlwgt\", \"Education\", \"Education-Num\", \"Marital Status\",\n",
        "            \"Occupation\", \"Relationship\", \"Race\", \"Sex\", \"Capital Gain\", \"Capital Loss\",\n",
        "            \"Hours per week\", \"Country\", \"Target\"]\n",
        "train_data = pd.read_csv(\n",
        "    \"https://archive.ics.uci.edu/ml/machine-learning-databases/adult/adult.data\",\n",
        "    names=features,\n",
        "    sep=r'\\s*,\\s*',\n",
        "    engine='python',\n",
        "    na_values=\"?\")\n",
        "test_data = pd.read_csv(\n",
        "    \"https://archive.ics.uci.edu/ml/machine-learning-databases/adult/adult.test\",\n",
        "    names=features,\n",
        "    sep=r'\\s*,\\s*',\n",
        "    skiprows=[0],\n",
        "    engine='python',\n",
        "    na_values=\"?\")"
      ],
      "execution_count": 0,
      "outputs": []
    },
    {
      "metadata": {
        "id": "XtOzRy8Z3M36",
        "colab_type": "code",
        "colab": {}
      },
      "cell_type": "code",
      "source": [
        "\n",
        "# Display the Dive visualization for the training data.\n",
        "from IPython.core.display import display, HTML\n",
        "\n",
        "jsonstr = train_data.to_json(orient='records')\n",
        "HTML_TEMPLATE = \"\"\"<link rel=\"import\" href=\"https://raw.githubusercontent.com/PAIR-code/facets/master/facets-dist/facets-jupyter.html\">\n",
        "        <facets-dive id=\"elem\" height=\"600\"></facets-dive>\n",
        "        <script>\n",
        "          var data = {jsonstr};\n",
        "          document.querySelector(\"#elem\").data = data;\n",
        "        </script>\"\"\"\n",
        "html = HTML_TEMPLATE.format(jsonstr=jsonstr)\n",
        "display(HTML(html))"
      ],
      "execution_count": 0,
      "outputs": []
    },
    {
      "metadata": {
        "id": "B22HH9kyeyQd",
        "colab_type": "code",
        "colab": {}
      },
      "cell_type": "code",
      "source": [
        "# Clone the facets github repo to get access to the python feature stats generation code\n",
        "!git clone https://github.com/pair-code/facets.git"
      ],
      "execution_count": 0,
      "outputs": []
    },
    {
      "metadata": {
        "id": "mjv5Kr1Mflq7",
        "colab_type": "code",
        "colab": {}
      },
      "cell_type": "code",
      "source": [
        "# Add the path to the feature stats generation code.\n",
        "import sys\n",
        "sys.path.insert(0, '/content/facets/facets_overview/python/')\n",
        "\n",
        "# Create the feature stats for the datasets and stringify it.\n",
        "import base64\n",
        "from generic_feature_statistics_generator import GenericFeatureStatisticsGenerator\n",
        "\n",
        "gfsg = GenericFeatureStatisticsGenerator()\n",
        "proto = gfsg.ProtoFromDataFrames([{'name': 'train', 'table': train_data},\n",
        "                                  {'name': 'test', 'table': test_data}])\n",
        "protostr = base64.b64encode(proto.SerializeToString()).decode(\"utf-8\")"
      ],
      "execution_count": 0,
      "outputs": []
    },
    {
      "metadata": {
        "id": "b7zs2p2_goJa",
        "colab_type": "code",
        "colab": {}
      },
      "cell_type": "code",
      "source": [
        "# Display the facets overview visualization for this data\n",
        "from IPython.core.display import display, HTML\n",
        "\n",
        "HTML_TEMPLATE = \"\"\"<link rel=\"import\" href=\"https://raw.githubusercontent.com/PAIR-code/facets/master/facets-dist/facets-jupyter.html\" >\n",
        "        <facets-overview id=\"elem\"></facets-overview>\n",
        "        <script>\n",
        "          document.querySelector(\"#elem\").protoInput = \"{protostr}\";\n",
        "        </script>\"\"\"\n",
        "html = HTML_TEMPLATE.format(protostr=protostr)\n",
        "display(HTML(html))"
      ],
      "execution_count": 0,
      "outputs": []
    }
  ]
}