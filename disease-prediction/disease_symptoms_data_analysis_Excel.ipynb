{
  "nbformat": 4,
  "nbformat_minor": 0,
  "metadata": {
    "colab": {
      "name": "disease_symptoms_data_analysis_Excel.ipynb",
      "version": "0.3.2",
      "provenance": [],
      "collapsed_sections": []
    },
    "kernelspec": {
      "name": "python3",
      "display_name": "Python 3"
    },
    "accelerator": "GPU"
  },
  "cells": [
    {
      "metadata": {
        "id": "view-in-github",
        "colab_type": "text"
      },
      "cell_type": "markdown",
      "source": [
        "[View in Colaboratory](https://colab.research.google.com/github/vbosstech/disease-diagnostic-from-symptoms/blob/master/disease_symptoms_data_analysis_Excel.ipynb)"
      ]
    },
    {
      "metadata": {
        "id": "oanZ38UnV3Ny",
        "colab_type": "text"
      },
      "cell_type": "markdown",
      "source": [
        "## Disease Prediction from Symptoms\n",
        "\n",
        "Disease-Symptom Knowledge Database [here](http://people.dbmi.columbia.edu/~friedma/Projects/DiseaseSymptomKB/index.html) "
      ]
    },
    {
      "metadata": {
        "id": "RjgPPpf9X8hf",
        "colab_type": "text"
      },
      "cell_type": "markdown",
      "source": [
        "Install Excel/GoogleSheet Python modules"
      ]
    },
    {
      "metadata": {
        "id": "D4eJbbWZX_HN",
        "colab_type": "code",
        "colab": {}
      },
      "cell_type": "code",
      "source": [
        "  # !pip install --upgrade -q gspread\n",
        "  !pip3 install --upgrade -q xlrd"
      ],
      "execution_count": 0,
      "outputs": []
    },
    {
      "metadata": {
        "id": "R1mWQmgsV3Nz",
        "colab_type": "code",
        "colab": {}
      },
      "cell_type": "code",
      "source": [
        "# Import Dependencies\n",
        "import csv\n",
        "import pandas as pd\n",
        "import numpy as np\n",
        "from collections import defaultdict\n",
        "import seaborn as sns\n",
        "import matplotlib.pyplot as plt\n",
        "%matplotlib inline"
      ],
      "execution_count": 0,
      "outputs": []
    },
    {
      "metadata": {
        "id": "k78cK1HvYgRZ",
        "colab_type": "code",
        "colab": {}
      },
      "cell_type": "code",
      "source": [
        "from google.colab import drive\n",
        "drive.mount(\"/content/gdrive\", force_remount=True)\n"
      ],
      "execution_count": 0,
      "outputs": []
    },
    {
      "metadata": {
        "id": "bYcEBDczV3N3",
        "colab_type": "code",
        "colab": {}
      },
      "cell_type": "code",
      "source": [
        "# df = pd.read_excel('/content/gdrive/machine-learning/disease-diagnostic-from-symptoms/dataset/disease_symptom_database.xlsx')\n",
        "df = pd.read_excel('/content/gdrive/My Drive/machine-learning/disease-diagnostic-from-symptoms/dataset/disease_symptom_dataset_uncleaned.xlsx')"
      ],
      "execution_count": 0,
      "outputs": []
    },
    {
      "metadata": {
        "id": "vZqkQePUV3N5",
        "colab_type": "code",
        "colab": {}
      },
      "cell_type": "code",
      "source": [
        "df.head()"
      ],
      "execution_count": 0,
      "outputs": []
    },
    {
      "metadata": {
        "id": "VMrdQqzzV3N-",
        "colab_type": "code",
        "colab": {}
      },
      "cell_type": "code",
      "source": [
        "data = df.fillna(method='ffill')"
      ],
      "execution_count": 0,
      "outputs": []
    },
    {
      "metadata": {
        "id": "kTmCMz9nV3OA",
        "colab_type": "code",
        "colab": {}
      },
      "cell_type": "code",
      "source": [
        "data.head()"
      ],
      "execution_count": 0,
      "outputs": []
    },
    {
      "metadata": {
        "id": "i4l0llIvV3OD",
        "colab_type": "code",
        "colab": {}
      },
      "cell_type": "code",
      "source": [
        "list(data)"
      ],
      "execution_count": 0,
      "outputs": []
    },
    {
      "metadata": {
        "id": "y8_m-fAIV3OH",
        "colab_type": "code",
        "colab": {}
      },
      "cell_type": "code",
      "source": [
        "# Process Disease and Symptom Names\n",
        "def process_data(data):\n",
        "    data_list = []\n",
        "    data_name = data.replace('^','_').split('_')\n",
        "    n = 1\n",
        "    for names in data_name:\n",
        "        if (n % 2 == 0):\n",
        "            data_list.append(names)\n",
        "        n += 1\n",
        "    return data_list"
      ],
      "execution_count": 0,
      "outputs": []
    },
    {
      "metadata": {
        "id": "ncUcemWFV3OK",
        "colab_type": "code",
        "colab": {}
      },
      "cell_type": "code",
      "source": [
        "disease_list = []\n",
        "disease_symptom_dict = defaultdict(list)\n",
        "disease_symptom_count = {}\n",
        "count = 0\n",
        "\n",
        "for idx, row in data.iterrows():\n",
        "    \n",
        "    # Get the Disease Names\n",
        "    if (row['Disease'] !=\"\\xc2\\xa0\") and (row['Disease'] != \"\"):\n",
        "        disease = row['Disease']\n",
        "        disease_list = process_data(data=disease)\n",
        "        count = row['Count of Disease Occurrence']\n",
        "\n",
        "    # Get the Symptoms Corresponding to Diseases\n",
        "    if (row['Symptom'] !=\"\\xc2\\xa0\") and (row['Symptom'] != \"\"):\n",
        "        symptom = row['Symptom']\n",
        "        symptom_list = process_data(data=symptom)\n",
        "        for d in disease_list:\n",
        "            for s in symptom_list:\n",
        "                disease_symptom_dict[d].append(s)\n",
        "            disease_symptom_count[d] = count"
      ],
      "execution_count": 0,
      "outputs": []
    },
    {
      "metadata": {
        "id": "qICH_o1WV3OM",
        "colab_type": "code",
        "colab": {}
      },
      "cell_type": "code",
      "source": [
        "# See that the data is Processed Correctly\n",
        "disease_symptom_dict"
      ],
      "execution_count": 0,
      "outputs": []
    },
    {
      "metadata": {
        "id": "73GKkTmTV3OR",
        "colab_type": "code",
        "colab": {}
      },
      "cell_type": "code",
      "source": [
        "# Count of Disease Occurence w.r.t each Disease\n",
        "disease_symptom_count"
      ],
      "execution_count": 0,
      "outputs": []
    },
    {
      "metadata": {
        "id": "Z5URvWUSV3OT",
        "colab_type": "code",
        "colab": {}
      },
      "cell_type": "code",
      "source": [
        "df1 = pd.DataFrame(list(disease_symptom_dict.items()), columns=['Disease','Symptom'])"
      ],
      "execution_count": 0,
      "outputs": []
    },
    {
      "metadata": {
        "id": "gA1QoyJbV3Oc",
        "colab_type": "code",
        "colab": {}
      },
      "cell_type": "code",
      "source": [
        "df1.head()"
      ],
      "execution_count": 0,
      "outputs": []
    },
    {
      "metadata": {
        "id": "Vx1it1lqV3Og",
        "colab_type": "code",
        "colab": {}
      },
      "cell_type": "code",
      "source": [
        "\n",
        "for vals in disease_symptom_count.items():\n",
        "    print(vals[1])"
      ],
      "execution_count": 0,
      "outputs": []
    },
    {
      "metadata": {
        "id": "SxXdqhiZV3Oj",
        "colab_type": "code",
        "colab": {}
      },
      "cell_type": "code",
      "source": [
        "df1.head()"
      ],
      "execution_count": 0,
      "outputs": []
    }
  ]
}