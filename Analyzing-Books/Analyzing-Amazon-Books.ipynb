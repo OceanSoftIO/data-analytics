{
 "cells": [
  {
   "cell_type": "markdown",
   "id": "137d58bb-0ec3-45c2-bb16-932cdd19d829",
   "metadata": {
    "tags": []
   },
   "source": [
    "# 📊 What we found after analyzing 1,000 Amazon Data Science Books 📚"
   ]
  },
  {
   "cell_type": "markdown",
   "id": "9e5975c4-2072-45d4-954e-bace87ba16da",
   "metadata": {
    "tags": []
   },
   "source": [
    "## 🔥 Table of Contents\n",
    "* [📚 Amazon Data Science Books Dataset](#books-dataset)\n",
    "* [1. 🔎 Exploratory Data Analysis](#data-analysis)\n",
    "    * [1.1. 💰 Price vs. Reviews](#analyse-price-reviews)\n",
    "    * [1.2. 💰 Price vs. Book Length](#analyse-price-book-length)\n",
    "    * [1.3. 📚 Best Python & Machine Learning Books](#analyse-best-books)\n",
    "* [2. 🧐 Clustering Book Titles](#clustering-book-titles)\n",
    "* [3. 🌐 Scraping Amazon Book Reviews](#scraping)"
   ]
  },
  {
   "cell_type": "markdown",
   "id": "e0e1a39e-0e23-4d49-84c2-01d8846e7d59",
   "metadata": {},
   "source": [
    "### Useful Python Libraries for Data Science\n",
    "\n",
    "* **NumPy (Numerical Python)** with powerful N-dimensional array.\n",
    "* **Pandas (Python Data Analysis)** is heavily used for Data Manipulation and Analysis.\n",
    "* **Matplotlib** provides powerful and beautiful data visualizations as well as an object-oriented API for embedding those plots into applications. \n",
    "* **Plotly Express** is high-level API for creating figures."
   ]
  },
  {
   "cell_type": "code",
   "execution_count": null,
   "id": "d7da8aec-8361-4650-aae3-b4886534d30c",
   "metadata": {},
   "outputs": [],
   "source": [
    "!pip install numpy pandas matplotlib plotly\n",
    "\n",
    "# !pip list"
   ]
  },
  {
   "cell_type": "code",
   "execution_count": null,
   "id": "2421f0ca-7cb3-42ba-b618-9dd4a4a8f7b5",
   "metadata": {},
   "outputs": [],
   "source": [
    "import numpy as np\n",
    "import pandas as pd\n",
    "import matplotlib.pyplot as plt\n",
    "import plotly.express as px"
   ]
  },
  {
   "cell_type": "markdown",
   "id": "cbe21564-01ce-4417-9a2b-514e184d3b4b",
   "metadata": {},
   "source": [
    "## 📚 Amazon Data Science Books Dataset <a class=\"anchor\" id=\"books-dataset\"></a>\n",
    "\n",
    "> [This project uses the \"Amazon Data Science Books Dataset\" available on Kaggle](https://www.kaggle.com/datasets/die9origephit/amazon-data-science-books)"
   ]
  },
  {
   "cell_type": "code",
   "execution_count": null,
   "id": "1a63ff08-d7cb-4da4-a855-bf1db09edf96",
   "metadata": {},
   "outputs": [],
   "source": [
    "data = pd.read_csv('final_book_dataset_kaggle.csv')\n",
    "# data.head(n=3)\n",
    "# data.shape\n",
    "# data.columns\n",
    "# print(data.info())\n",
    "\n",
    "df = pd.DataFrame(data)\n",
    "print(df)"
   ]
  },
  {
   "cell_type": "markdown",
   "id": "48485d89-6dec-403e-aa16-3e21bac6bb68",
   "metadata": {},
   "source": [
    "## 1. 🔎 Exploratory Data Analysis <a class=\"anchor\" id=\"data-analysis\"></a>"
   ]
  },
  {
   "cell_type": "markdown",
   "id": "c42d7c88-007b-45ff-81b4-c1ce51384454",
   "metadata": {
    "tags": []
   },
   "source": [
    "### 1.1. 💰 Price vs. Reviews <a class=\"anchor\" id=\"analyse-price-reviews\"></a>\n",
    "\n",
    "> Do more expensive books have better reviews?"
   ]
  },
  {
   "cell_type": "code",
   "execution_count": null,
   "id": "eabd34a6-67cf-4db1-9aa6-b798fdf5d86e",
   "metadata": {},
   "outputs": [],
   "source": [
    "# fig = px.scatter(df, x='price', y='avg_reviews', size='n_reviews')\n",
    "fig = px.scatter(df, x='price', y='avg_reviews', color='pages', size='n_reviews')\n",
    "\n",
    "fig.show(renderer='iframe')\n",
    "# fig.show(renderer='iframe_connected')"
   ]
  },
  {
   "cell_type": "markdown",
   "id": "75099ac8-4380-4fdd-99b8-38b4a2454d00",
   "metadata": {},
   "source": [
    "### 1.2. 💰 Price vs. Book Length <a class=\"anchor\" id=\"analyse-price-book-length\"></a>\n",
    "\n",
    "> Do longer books have higher prices?"
   ]
  },
  {
   "cell_type": "code",
   "execution_count": null,
   "id": "41cfdc26-7f38-482d-b5da-3a1c4837e326",
   "metadata": {},
   "outputs": [],
   "source": [
    "# fig = px.scatter(df, x='price', y='avg_reviews', size='pages')\n",
    "# fig = px.scatter(df, x='price', y='avg_reviews', color='dimensions', size='pages')\n",
    "\n",
    "# fig.show(renderer='iframe')\n",
    "# fig.show(renderer='iframe_connected')"
   ]
  },
  {
   "cell_type": "markdown",
   "id": "c0737411-3428-4b4d-9e3d-8eb524ca25ae",
   "metadata": {},
   "source": [
    "### 1.3. 📚 Best Python & Machine Learning Books <a class=\"anchor\" id=\"analyse-best-books\"></a>\n",
    "\n",
    "> What are the best Python books? What are the best ML books?"
   ]
  },
  {
   "cell_type": "code",
   "execution_count": null,
   "id": "95d62e55-29fc-4c61-976f-d74f087cf1c4",
   "metadata": {},
   "outputs": [],
   "source": [
    "## Select books based on title containing \"Python\"\n",
    "python_books = df[df['title'].str.contains(\"Python\")]\n",
    "\n",
    "## Python books with most reviews and highest average rating\n",
    "best_python_books = python_books.nlargest(7, ['n_reviews','avg_reviews'])\n",
    "best_python_books"
   ]
  },
  {
   "cell_type": "code",
   "execution_count": null,
   "id": "b21764ab-76dd-4e85-9773-5ce512b1d9a4",
   "metadata": {},
   "outputs": [],
   "source": [
    "## Select books based on title containing \"Machine Learning\"\n",
    "ml_books = df[df['title'].str.contains(\"Machine Learning\")]\n",
    "\n",
    "## ML books with most reviews and highest average rating\n",
    "best_ml_books = ml_books.nlargest(7, ['n_reviews', 'avg_reviews'])\n",
    "best_ml_books"
   ]
  },
  {
   "cell_type": "markdown",
   "id": "a3136268-a727-4ab9-a745-9d6e3b1182aa",
   "metadata": {},
   "source": [
    "## 2. 💎 Clustering Book Titles <a class=\"anchor\" id=\"clustering-book-titles\"></a>\n",
    "\n",
    "> Cluster Analysis of book names / TF-IDF and K-Means\n",
    "\n",
    "> 💡 What are the main types of Data Science books?"
   ]
  },
  {
   "cell_type": "code",
   "execution_count": null,
   "id": "4d24508c-ce5b-42f3-9ac7-be0cafaf2f2e",
   "metadata": {},
   "outputs": [],
   "source": [
    "## Install sklearn if not done already!\n",
    "\n",
    "!pip install scikit-learn"
   ]
  },
  {
   "cell_type": "code",
   "execution_count": null,
   "id": "62649777-0f5c-46eb-9f09-20d22e77abf3",
   "metadata": {},
   "outputs": [],
   "source": [
    "from sklearn.feature_extraction.text import TfidfVectorizer\n",
    "vectorizer = TfidfVectorizer(stop_words='english', ngram_range=(1,2))\n",
    "\n",
    "X = vectorizer.fit_transform(df[\"title\"])"
   ]
  },
  {
   "cell_type": "code",
   "execution_count": null,
   "id": "1b38db70-d699-41e0-993d-5b429046e233",
   "metadata": {},
   "outputs": [],
   "source": [
    "pd.DataFrame(X.toarray(), columns=vectorizer.get_feature_names_out())"
   ]
  },
  {
   "cell_type": "code",
   "execution_count": null,
   "id": "aefb9682-7b58-4848-9101-d44390065012",
   "metadata": {},
   "outputs": [],
   "source": [
    "from sklearn.cluster import KMeans\n",
    "sum_of_squared_distances = []\n",
    "# Kmeans clustering\n",
    "K = range(2,10)\n",
    "for k in K:\n",
    "   km = KMeans(n_clusters=k, max_iter=600, n_init=10)\n",
    "   km.fit(X)\n",
    "   sum_of_squared_distances.append(km.inertia_)"
   ]
  },
  {
   "cell_type": "code",
   "execution_count": null,
   "id": "6fe3dd66-d659-4563-b83b-231966c51bb1",
   "metadata": {},
   "outputs": [],
   "source": [
    "# plt.plot(K, sum_of_squared_distances, 'bx-')\n",
    "\n",
    "plt.plot(K, sum_of_squared_distances, 'bx-')\n",
    "plt.xlabel('Number of clusters')\n",
    "plt.ylabel('Sum of squared distances')\n",
    "plt.title('Elbow Method For Optimal k')\n",
    "plt.show()"
   ]
  },
  {
   "cell_type": "code",
   "execution_count": null,
   "id": "14556aa3-6360-4897-9835-cce5014f23de",
   "metadata": {},
   "outputs": [],
   "source": [
    "## Get clusters\n",
    "true_k = 6\n",
    "model = KMeans(n_clusters=true_k, init='k-means++', max_iter=600, n_init=10)\n",
    "model.fit(X)\n",
    "\n",
    "## Get prediction/ labels\n",
    "labels = model.labels_\n",
    "book_cl = pd.DataFrame(list(zip(df[\"title\"],labels)),columns=['title','cluster'])\n",
    "print(book_cl.sort_values(by=['cluster']))"
   ]
  },
  {
   "cell_type": "code",
   "execution_count": null,
   "id": "a0fa00e4-98ed-44ef-b202-846868a8c12f",
   "metadata": {},
   "outputs": [],
   "source": [
    "!pip install wordcloud==1.8.2.2"
   ]
  },
  {
   "cell_type": "code",
   "execution_count": null,
   "id": "9d134eed-c672-432a-a522-5b380d809f8f",
   "metadata": {},
   "outputs": [],
   "source": [
    "## Create Wordclouds for Clusters\n",
    "from wordcloud import WordCloud\n",
    "\n",
    "for k in range(true_k):\n",
    "   text = book_cl[book_cl.cluster == k]['title'].str.cat(sep=' ')\n",
    "   wordcloud = WordCloud(max_font_size=50, max_words=100, background_color=\"white\").generate(text)\n",
    "\n",
    "   ## Create subplot\n",
    "   plt.subplot(2, 3, k+1).set_title(\"Cluster \" + str(k)) \n",
    "   plt.plot()\n",
    "   plt.imshow(wordcloud, interpolation=\"bilinear\")\n",
    "   plt.axis(\"off\")\n",
    "plt.show()"
   ]
  },
  {
   "cell_type": "code",
   "execution_count": null,
   "id": "d34e17d3-b20f-4a0c-bb44-f9d96b8e4ff7",
   "metadata": {},
   "outputs": [],
   "source": [
    "cluster_num = '1'"
   ]
  },
  {
   "cell_type": "code",
   "execution_count": null,
   "id": "6b52ad85-1831-480e-a0c9-7567d0ef6767",
   "metadata": {},
   "outputs": [],
   "source": [
    "## Books in clusters\n",
    "book_cl[book_cl.cluster == int(cluster_num)]"
   ]
  },
  {
   "cell_type": "code",
   "execution_count": null,
   "id": "8e7a975b-7467-41bb-9970-fb8e32730a56",
   "metadata": {},
   "outputs": [],
   "source": [
    "## Prediction on unseen data\n",
    "test = vectorizer.transform(['Tensorflow Deep learning'])\n",
    "model.predict(test)[0]"
   ]
  },
  {
   "cell_type": "markdown",
   "id": "418b1734-0b88-4510-bdec-a7fe81b4277f",
   "metadata": {},
   "source": [
    "## 3. 🌐 Scraping Amazon Book Reviews <a class=\"anchor\" id=\"scraping\"></a>\n",
    "\n",
    "> Amazon review scraping & Book review summary"
   ]
  },
  {
   "cell_type": "code",
   "execution_count": null,
   "id": "2ff61310-3f67-4dc4-9a2b-4325c35d5a9a",
   "metadata": {},
   "outputs": [],
   "source": [
    "## Example urls\n",
    "product_url = \"https://www.amazon.com/Becoming-Data-Head-Understand-Statistics/dp/1119741742/\"\n",
    "reviews_url = \"https://www.amazon.com/Becoming-Data-Head-Understand-Statistics/product-reviews/1119741742/ref=cm_cr_dp_d_show_all_btm?ie=UTF8&reviewerType=all_reviews\""
   ]
  },
  {
   "cell_type": "code",
   "execution_count": null,
   "id": "f9d38095-17a8-429e-90d6-3ac66d094e4e",
   "metadata": {},
   "outputs": [],
   "source": [
    "def get_review_url(product_url):\n",
    "    try:\n",
    "        split_url = product_url.split('dp')\n",
    "        product_number = split_url[1].split('/')[1]\n",
    "        review_url = split_url[0] + 'product-reviews/' + product_number + \"/ref=cm_cr_dp_d_show_all_btm?ie=UTF8&reviewerType=all_reviews\"\n",
    "    except:\n",
    "        review_url = None\n",
    "    return review_url"
   ]
  },
  {
   "cell_type": "code",
   "execution_count": null,
   "id": "8332c622-1af9-4c14-ab06-e459648e034f",
   "metadata": {},
   "outputs": [],
   "source": [
    "## Create review urls for each book in dataset\n",
    "df['review_urls'] = df['complete_link'].apply(lambda x: get_review_url(x))\n",
    "\n",
    "## Remove empty review urls and create a new dataset\n",
    "df_reviews = df.loc[~df['review_urls'].isnull()].reset_index()"
   ]
  },
  {
   "cell_type": "code",
   "execution_count": null,
   "id": "adbb6df8-7797-46cd-94f7-87b173bf4287",
   "metadata": {},
   "outputs": [],
   "source": [
    "!pip install requests\n",
    "# !pip install lxml"
   ]
  },
  {
   "cell_type": "code",
   "execution_count": null,
   "id": "b46b59c3-dd29-4582-aa78-49d8c9f9be21",
   "metadata": {},
   "outputs": [],
   "source": [
    "## Code adapted from Jeff James https://gist.github.com/jrjames83/4653d488801be6f0683b91eda8eeb627\n",
    "import requests\n",
    "import pandas as pd\n",
    "from bs4 import BeautifulSoup\n",
    "from datetime import datetime\n",
    "import logging\n",
    "\n",
    "headers = {\n",
    "    \"authority\": \"www.amazon.com\",\n",
    "    \"pragma\": \"no-cache\",\n",
    "    \"cache-control\": \"no-cache\",\n",
    "    \"dnt\": \"1\",\n",
    "    \"upgrade-insecure-requests\": \"1\",\n",
    "    \"user-agent\": \"Mozilla/5.0 (X11; CrOS x86_64 8172.45.0) AppleWebKit/537.36 (KHTML, like Gecko) Chrome/51.0.2704.64 Safari/537.36\",\n",
    "    \"accept\": \"text/html,application/xhtml+xml,application/xml;q=0.9,image/webp,image/apng,*/*;q=0.8,application/signed-exchange;v=b3;q=0.9\",\n",
    "    \"sec-fetch-site\": \"none\",\n",
    "    \"sec-fetch-mode\": \"navigate\",\n",
    "    \"sec-fetch-dest\": \"document\",\n",
    "    \"accept-language\": \"en-GB,en-US;q=0.9,en;q=0.8\",\n",
    "}\n",
    "\n",
    "URLS = df_reviews['review_urls']\n",
    "book_titles = df_reviews['title']\n",
    "\n",
    "def get_page_html(page_url: str) -> str:\n",
    "    resp = requests.get(page_url, headers=headers)\n",
    "    return resp.text\n",
    "\n",
    "def get_reviews_from_html(page_html: str) -> BeautifulSoup:\n",
    "    # soup = BeautifulSoup(page_html, \"lxml\")\n",
    "    ## BeautifulSoup(markup,\"html.parser\") --> Python HTML parser\n",
    "    soup = BeautifulSoup(page_html, features=\"html.parser\")\n",
    "    reviews = soup.find_all(\"div\", {\"class\": \"a-section celwidget\"})\n",
    "    return reviews\n",
    "\n",
    "def get_review_text(soup_object: BeautifulSoup) -> str:\n",
    "    review_text = soup_object.find(\n",
    "        \"span\", {\"class\": \"a-size-base review-text review-text-content\"}\n",
    "    ).get_text()\n",
    "    return review_text.strip()\n",
    "\n",
    "def get_number_stars(soup_object: BeautifulSoup) -> str:\n",
    "    stars = soup_object.find(\"span\", {\"class\": \"a-icon-alt\"}).get_text()\n",
    "    return stars.strip()\n",
    "\n",
    "def orchestrate_data_gathering(single_review: BeautifulSoup) -> dict:\n",
    "    return {\n",
    "        \"review_text\": get_review_text(single_review),\n",
    "        \"review_stars\": get_number_stars(single_review)\n",
    "    }\n",
    "\n",
    "if __name__ == '__main__':\n",
    "    logging.basicConfig(level=logging.INFO)\n",
    "    all_results = []\n",
    "\n",
    "    for i in range(len(URLS)):\n",
    "        logging.info(URLS[i])\n",
    "        html = get_page_html(URLS[i])\n",
    "        reviews = get_reviews_from_html(html)\n",
    "        for rev in reviews:\n",
    "            data = orchestrate_data_gathering(rev)\n",
    "            data.update({'title': df_reviews['title'][i]})\n",
    "            all_results.append(data)\n",
    "\n",
    "    out = pd.DataFrame.from_records(all_results)\n",
    "    logging.info(f\"Total number of reviews {out.shape[0]}\")\n",
    "    save_name = f\"book_reviews_{datetime.now().strftime('%Y-%m-%d-%h')}.csv\"\n",
    "    logging.info(f\"saving to {save_name}\")\n",
    "    out.to_csv(save_name, index=False)\n",
    "    logging.info('Done yayy')"
   ]
  },
  {
   "cell_type": "code",
   "execution_count": null,
   "id": "ea4cca2a-18be-42f2-b519-d7dd6bf7657e",
   "metadata": {},
   "outputs": [],
   "source": [
    "# book_reviews = pd.read_csv('book_reviews_2022-12-14-12.csv')\n",
    "csv_name = f\"book_reviews_{datetime.now().strftime('%Y-%m-%d-%h')}.csv\"\n",
    "book_reviews = pd.read_csv(csv_name)\n",
    "\n",
    "## Aggregate reviews for each book title\n",
    "book_reviews['review_text'] = book_reviews['review_text'].astype(str)\n",
    "book_reviews_agg = book_reviews.groupby(['title'], as_index = False).agg({'review_text': ' '.join})\n",
    "book_reviews_agg"
   ]
  },
  {
   "cell_type": "code",
   "execution_count": null,
   "id": "35c658c8-970f-4207-80eb-a1438417df34",
   "metadata": {},
   "outputs": [],
   "source": [
    "## Install Bert extractive summarizer if not done already!\n",
    "\n",
    "!pip install bert-extractive-summarizer\n",
    "# !pip install transformers summarizer\n",
    "# !pip uninstall summarizer\n",
    "\n",
    "# import transformers, torch, tensorflow\n",
    "# from platform import python_version\n",
    "# print(\"python={}\".format(python_version()))\n",
    "# print(\"transformers=={}\\ntorch=={}\\ntensorflow=={}\\n\".\n",
    "#       format(transformers.__version__, torch.__version__, tensorflow.__version__ ))"
   ]
  },
  {
   "cell_type": "markdown",
   "id": "441172ff-655b-477c-81aa-2955b835bf78",
   "metadata": {},
   "source": [
    "## ~~Book Reviews Summarization~~"
   ]
  },
  {
   "cell_type": "code",
   "execution_count": null,
   "id": "60beaa39-699a-4ece-bf25-fa46cd36fabe",
   "metadata": {},
   "outputs": [],
   "source": [
    "## Summarizing book reviews\n",
    "# from summarizer import Summarizer\n",
    "\n",
    "# bert_model = Summarizer()\n",
    "# bert_summary = ''.join(bert_model(book_reviews_agg.review_text[2], ratio=0.2))\n",
    "# print(bert_summary)"
   ]
  },
  {
   "cell_type": "code",
   "execution_count": null,
   "id": "096ece4c-5230-4e04-bcef-2f943a478b1f",
   "metadata": {},
   "outputs": [],
   "source": [
    "# print(book_reviews_agg.review_text[2])"
   ]
  },
  {
   "cell_type": "code",
   "execution_count": null,
   "id": "ab061e77-89e1-4e07-af1a-5f24200fa584",
   "metadata": {},
   "outputs": [],
   "source": [
    "# from IPython.display import display, Markdown\n",
    "# display(Markdown(book_reviews_agg.review_text[2]))"
   ]
  },
  {
   "cell_type": "code",
   "execution_count": null,
   "id": "3e923f9a-1a9e-4e10-92a1-e25ba5188d2d",
   "metadata": {},
   "outputs": [],
   "source": [
    "# display(Markdown(bert_summary))"
   ]
  }
 ],
 "metadata": {
  "kernelspec": {
   "display_name": "default:Python",
   "language": "python",
   "name": "conda-env-default-py"
  },
  "language_info": {
   "codemirror_mode": {
    "name": "ipython",
    "version": 3
   },
   "file_extension": ".py",
   "mimetype": "text/x-python",
   "name": "python",
   "nbconvert_exporter": "python",
   "pygments_lexer": "ipython3",
   "version": "3.9.13"
  }
 },
 "nbformat": 4,
 "nbformat_minor": 5
}
